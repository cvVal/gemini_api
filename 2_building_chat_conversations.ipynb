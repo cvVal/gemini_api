{
 "cells": [
  {
   "cell_type": "code",
   "execution_count": null,
   "id": "21eee8ec",
   "metadata": {},
   "outputs": [],
   "source": [
    "pip install -q google-generativeai"
   ]
  },
  {
   "cell_type": "code",
   "execution_count": null,
   "id": "d26c22a2",
   "metadata": {},
   "outputs": [],
   "source": [
    "# Importing the libraries\n",
    "import google.generativeai as genai\n",
    "import os\n",
    "from dotenv import load_dotenv, find_dotenv\n",
    "\n",
    "# Loading the API key and authenticating to Gemini\n",
    "# Get a API key from https://ai.google.dev/\n",
    "# Locally in the same directory, create a .env file with the GOOGLE_API_KEY placeholder and its secret value\n",
    "load_dotenv(find_dotenv(), override=True)\n",
    "os.environ.get('GOOGLE_API_KEY')\n",
    "\n",
    "# Configuring the API key\n",
    "genai.configure(api_key=os.environ.get('GOOGLE_API_KEY'))"
   ]
  },
  {
   "cell_type": "code",
   "execution_count": null,
   "id": "93eb984d",
   "metadata": {},
   "outputs": [],
   "source": [
    "model = genai.GenerativeModel('gemini-pro')\n",
    "chat = model.start_chat(history=[])\n",
    "chat"
   ]
  },
  {
   "cell_type": "code",
   "execution_count": null,
   "id": "5713d77d",
   "metadata": {},
   "outputs": [],
   "source": [
    "response = chat.send_message('In one paragraph, explain how the Internet works to a beginner.')"
   ]
  },
  {
   "cell_type": "code",
   "execution_count": null,
   "id": "21957586",
   "metadata": {},
   "outputs": [],
   "source": [
    "chat.history"
   ]
  },
  {
   "cell_type": "code",
   "execution_count": null,
   "id": "b21b428c",
   "metadata": {},
   "outputs": [],
   "source": [
    "chat.history[0]"
   ]
  },
  {
   "cell_type": "code",
   "execution_count": null,
   "id": "4bcfcb44",
   "metadata": {},
   "outputs": [],
   "source": [
    "chat.history[1]"
   ]
  },
  {
   "cell_type": "code",
   "execution_count": null,
   "id": "35b4aad0",
   "metadata": {},
   "outputs": [],
   "source": [
    "chat.history[1].parts[0].text"
   ]
  },
  {
   "cell_type": "code",
   "execution_count": null,
   "id": "3934dcec",
   "metadata": {},
   "outputs": [],
   "source": [
    "response = chat.send_message('Okay, how about a more detailed explanation about the IP addresses?')"
   ]
  },
  {
   "cell_type": "code",
   "execution_count": null,
   "id": "b8a80608",
   "metadata": {},
   "outputs": [],
   "source": [
    "chat.history"
   ]
  },
  {
   "cell_type": "code",
   "execution_count": null,
   "id": "f1368b1e",
   "metadata": {},
   "outputs": [],
   "source": [
    "response = chat.send_message('What have I asked you so far?')\n",
    "chat.history"
   ]
  },
  {
   "cell_type": "code",
   "execution_count": null,
   "id": "5a3fe261",
   "metadata": {},
   "outputs": [],
   "source": [
    "print(chat.history[-1].parts[0].text)"
   ]
  },
  {
   "cell_type": "code",
   "execution_count": null,
   "id": "d4529a1a",
   "metadata": {},
   "outputs": [],
   "source": [
    "for item in chat.history:\n",
    "    print(f'{item.role.capitalize()}: {item.parts[0].text}')\n",
    "    print('-' * 100)"
   ]
  },
  {
   "cell_type": "code",
   "execution_count": null,
   "id": "d18df2cb",
   "metadata": {},
   "outputs": [],
   "source": []
  }
 ],
 "metadata": {
  "kernelspec": {
   "display_name": "Python 3 (ipykernel)",
   "language": "python",
   "name": "python3"
  },
  "language_info": {
   "codemirror_mode": {
    "name": "ipython",
    "version": 3
   },
   "file_extension": ".py",
   "mimetype": "text/x-python",
   "name": "python",
   "nbconvert_exporter": "python",
   "pygments_lexer": "ipython3",
   "version": "3.11.5"
  }
 },
 "nbformat": 4,
 "nbformat_minor": 5
}
