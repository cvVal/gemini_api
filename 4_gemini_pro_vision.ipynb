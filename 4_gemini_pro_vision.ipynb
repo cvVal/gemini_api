{
 "cells": [
  {
   "cell_type": "markdown",
   "id": "4d0d5cde",
   "metadata": {},
   "source": [
    "# Project: Talking With an Image"
   ]
  },
  {
   "cell_type": "code",
   "execution_count": null,
   "id": "4aa3fe6a",
   "metadata": {},
   "outputs": [],
   "source": [
    "pip install -q google-generativeai"
   ]
  },
  {
   "cell_type": "code",
   "execution_count": null,
   "id": "90a731e5",
   "metadata": {},
   "outputs": [],
   "source": [
    "# Importing the libraries\n",
    "import google.generativeai as genai\n",
    "import os\n",
    "from dotenv import load_dotenv, find_dotenv\n",
    "\n",
    "# Loading the API key and authenticating to Gemini\n",
    "# Get a API key from https://ai.google.dev/\n",
    "# Locally in the same directory, create a .env file with the GOOGLE_API_KEY placeholder and its secret value\n",
    "load_dotenv(find_dotenv(), override=True)\n",
    "\n",
    "# Configuring the API key\n",
    "genai.configure(api_key=os.environ.get('GOOGLE_API_KEY'))"
   ]
  },
  {
   "cell_type": "code",
   "execution_count": null,
   "id": "c627e691",
   "metadata": {},
   "outputs": [],
   "source": [
    "from PIL import Image\n",
    "\n",
    "image_path = input('Enter image path: ')\n",
    "if not os.path.isfile(image_path):\n",
    "    raise SystemExit(\"Invalid Image Path! Exiting ...\")\n",
    "    \n",
    "img = Image.open(image_path)\n",
    "img"
   ]
  },
  {
   "cell_type": "code",
   "execution_count": null,
   "id": "467a075f",
   "metadata": {},
   "outputs": [],
   "source": [
    "import time\n",
    "\n",
    "model = genai.GenerativeModel('gemini-pro-vision')\n",
    "while True:\n",
    "    prompt = input('Ask something: ')\n",
    "    if prompt.lower() not in ['tooraloo']:\n",
    "        response = model.generate_content([prompt, img])\n",
    "        print('')\n",
    "        print(response.text)\n",
    "        print('-' * 100)\n",
    "    else:\n",
    "        print('Quitting ...')\n",
    "        time.sleep(2)\n",
    "        print('Bye-bye')\n",
    "        break"
   ]
  },
  {
   "cell_type": "code",
   "execution_count": null,
   "id": "8f99c4a2",
   "metadata": {},
   "outputs": [],
   "source": []
  }
 ],
 "metadata": {
  "kernelspec": {
   "display_name": "Python 3 (ipykernel)",
   "language": "python",
   "name": "python3"
  },
  "language_info": {
   "codemirror_mode": {
    "name": "ipython",
    "version": 3
   },
   "file_extension": ".py",
   "mimetype": "text/x-python",
   "name": "python",
   "nbconvert_exporter": "python",
   "pygments_lexer": "ipython3",
   "version": "3.11.5"
  }
 },
 "nbformat": 4,
 "nbformat_minor": 5
}
