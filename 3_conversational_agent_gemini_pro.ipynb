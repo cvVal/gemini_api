{
 "cells": [
  {
   "cell_type": "markdown",
   "id": "df97f5cc",
   "metadata": {},
   "source": [
    "# Project: Building a Conversational Agent Using Gemini Pro"
   ]
  },
  {
   "cell_type": "code",
   "execution_count": null,
   "id": "77c4823c",
   "metadata": {},
   "outputs": [],
   "source": [
    "pip install -q google-generativeai"
   ]
  },
  {
   "cell_type": "code",
   "execution_count": null,
   "id": "2fde6db7",
   "metadata": {},
   "outputs": [],
   "source": [
    "# Importing the libraries\n",
    "import google.generativeai as genai\n",
    "import os\n",
    "from dotenv import load_dotenv, find_dotenv\n",
    "\n",
    "# Loading the API key and authenticating to Gemini\n",
    "# Get a API key from https://ai.google.dev/\n",
    "# Locally in the same directory, create a .env file with the GOOGLE_API_KEY placeholder and its secret value\n",
    "load_dotenv(find_dotenv(), override=True)\n",
    "os.environ.get('GOOGLE_API_KEY')\n",
    "\n",
    "# Configuring the API key\n",
    "genai.configure(api_key=os.environ.get('GOOGLE_API_KEY'))"
   ]
  },
  {
   "cell_type": "code",
   "execution_count": null,
   "id": "5afabfbe",
   "metadata": {},
   "outputs": [],
   "source": [
    "generation_config = genai.types.GenerationConfig(\n",
    "    temperature=0.5\n",
    ")"
   ]
  },
  {
   "cell_type": "code",
   "execution_count": null,
   "id": "54183d6a",
   "metadata": {},
   "outputs": [],
   "source": [
    "import time\n",
    "\n",
    "model = genai.GenerativeModel('gemini-pro')\n",
    "\n",
    "chat = model.start_chat(history=[])\n",
    "while True:\n",
    "    prompt = input('User: ')   \n",
    "    if prompt.lower() not in ['exit', 'quit', 'bye']:\n",
    "        response = chat.send_message(prompt, generation_config=generation_config)\n",
    "        print(f'{chat.history[-1].role.capitalize()}: {chat.history[-1].parts[0].text}')\n",
    "        print('\\n' + '*' * 100 + '\\n')\n",
    "    else:\n",
    "        print('Quitting ...')\n",
    "        time.sleep(2)\n",
    "        print('Bye-bye!')\n",
    "        break"
   ]
  },
  {
   "cell_type": "code",
   "execution_count": null,
   "id": "d14a2cc5",
   "metadata": {},
   "outputs": [],
   "source": []
  }
 ],
 "metadata": {
  "kernelspec": {
   "display_name": "Python 3 (ipykernel)",
   "language": "python",
   "name": "python3"
  },
  "language_info": {
   "codemirror_mode": {
    "name": "ipython",
    "version": 3
   },
   "file_extension": ".py",
   "mimetype": "text/x-python",
   "name": "python",
   "nbconvert_exporter": "python",
   "pygments_lexer": "ipython3",
   "version": "3.11.5"
  }
 },
 "nbformat": 4,
 "nbformat_minor": 5
}
